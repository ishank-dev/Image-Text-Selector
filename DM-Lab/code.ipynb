{
 "cells": [
  {
   "cell_type": "code",
   "execution_count": 263,
   "metadata": {},
   "outputs": [],
   "source": [
    "import pandas as pd\n",
    "from sklearn import preprocessing\n",
    "import numpy as np\n",
    "from sklearn.preprocessing import MinMaxScaler\n",
    "import matplotlib.pyplot as plt\n",
    "import seaborn as sns"
   ]
  },
  {
   "cell_type": "markdown",
   "metadata": {},
   "source": [
    "# Part b"
   ]
  },
  {
   "cell_type": "markdown",
   "metadata": {},
   "source": [
    "Question 1"
   ]
  },
  {
   "cell_type": "code",
   "execution_count": 264,
   "metadata": {},
   "outputs": [],
   "source": [
    "df = pd.read_csv('CustomerData.csv')"
   ]
  },
  {
   "cell_type": "code",
   "execution_count": 265,
   "metadata": {},
   "outputs": [
    {
     "data": {
      "text/html": [
       "<div>\n",
       "<style scoped>\n",
       "    .dataframe tbody tr th:only-of-type {\n",
       "        vertical-align: middle;\n",
       "    }\n",
       "\n",
       "    .dataframe tbody tr th {\n",
       "        vertical-align: top;\n",
       "    }\n",
       "\n",
       "    .dataframe thead th {\n",
       "        text-align: right;\n",
       "    }\n",
       "</style>\n",
       "<table border=\"1\" class=\"dataframe\">\n",
       "  <thead>\n",
       "    <tr style=\"text-align: right;\">\n",
       "      <th></th>\n",
       "      <th>customer_id</th>\n",
       "      <th>name</th>\n",
       "      <th>gender</th>\n",
       "      <th>age</th>\n",
       "      <th>annual income (lakhs)</th>\n",
       "      <th>spending score</th>\n",
       "      <th>items purchased (monthly)</th>\n",
       "      <th>country</th>\n",
       "      <th>category</th>\n",
       "      <th>purchase type</th>\n",
       "    </tr>\n",
       "  </thead>\n",
       "  <tbody>\n",
       "    <tr>\n",
       "      <th>0</th>\n",
       "      <td>1</td>\n",
       "      <td>Edith</td>\n",
       "      <td>Female</td>\n",
       "      <td>NaN</td>\n",
       "      <td>40.9</td>\n",
       "      <td>27</td>\n",
       "      <td>62</td>\n",
       "      <td>Iran</td>\n",
       "      <td>Baby</td>\n",
       "      <td>offline</td>\n",
       "    </tr>\n",
       "    <tr>\n",
       "      <th>1</th>\n",
       "      <td>2</td>\n",
       "      <td>Sinclair</td>\n",
       "      <td>Male</td>\n",
       "      <td>53.0</td>\n",
       "      <td>NaN</td>\n",
       "      <td>42</td>\n",
       "      <td>47</td>\n",
       "      <td>China</td>\n",
       "      <td>NaN</td>\n",
       "      <td>online</td>\n",
       "    </tr>\n",
       "    <tr>\n",
       "      <th>2</th>\n",
       "      <td>3</td>\n",
       "      <td>Enoch</td>\n",
       "      <td>Male</td>\n",
       "      <td>22.0</td>\n",
       "      <td>NaN</td>\n",
       "      <td>70</td>\n",
       "      <td>26</td>\n",
       "      <td>China</td>\n",
       "      <td>Computers</td>\n",
       "      <td>offline</td>\n",
       "    </tr>\n",
       "    <tr>\n",
       "      <th>3</th>\n",
       "      <td>4</td>\n",
       "      <td>Lorenzo</td>\n",
       "      <td>Male</td>\n",
       "      <td>9.0</td>\n",
       "      <td>18.5</td>\n",
       "      <td>68</td>\n",
       "      <td>80</td>\n",
       "      <td>Russia</td>\n",
       "      <td>NaN</td>\n",
       "      <td>online</td>\n",
       "    </tr>\n",
       "    <tr>\n",
       "      <th>4</th>\n",
       "      <td>5</td>\n",
       "      <td>Damian</td>\n",
       "      <td>Male</td>\n",
       "      <td>55.0</td>\n",
       "      <td>18.4</td>\n",
       "      <td>69</td>\n",
       "      <td>89</td>\n",
       "      <td>Philippines</td>\n",
       "      <td>Jewelery</td>\n",
       "      <td>offline</td>\n",
       "    </tr>\n",
       "  </tbody>\n",
       "</table>\n",
       "</div>"
      ],
      "text/plain": [
       "   customer_id      name  gender   age  annual income (lakhs)  spending score  \\\n",
       "0            1     Edith  Female   NaN                   40.9              27   \n",
       "1            2  Sinclair    Male  53.0                    NaN              42   \n",
       "2            3     Enoch    Male  22.0                    NaN              70   \n",
       "3            4   Lorenzo    Male   9.0                   18.5              68   \n",
       "4            5    Damian    Male  55.0                   18.4              69   \n",
       "\n",
       "   items purchased (monthly)      country   category purchase type   \n",
       "0                         62         Iran       Baby        offline  \n",
       "1                         47        China        NaN         online  \n",
       "2                         26        China  Computers        offline  \n",
       "3                         80       Russia        NaN         online  \n",
       "4                         89  Philippines   Jewelery        offline  "
      ]
     },
     "execution_count": 265,
     "metadata": {},
     "output_type": "execute_result"
    }
   ],
   "source": [
    "df.head()"
   ]
  },
  {
   "cell_type": "markdown",
   "metadata": {},
   "source": [
    "# Data Preprocessing"
   ]
  },
  {
   "cell_type": "markdown",
   "metadata": {},
   "source": [
    "Handle missing values"
   ]
  },
  {
   "cell_type": "code",
   "execution_count": 266,
   "metadata": {},
   "outputs": [
    {
     "data": {
      "text/plain": [
       "customer_id                   0\n",
       "name                          0\n",
       "gender                       10\n",
       "age                           5\n",
       "annual income (lakhs)         8\n",
       "spending score                0\n",
       "items purchased (monthly)     0\n",
       "country                       0\n",
       "category                     13\n",
       "purchase type                 0\n",
       "dtype: int64"
      ]
     },
     "execution_count": 266,
     "metadata": {},
     "output_type": "execute_result"
    }
   ],
   "source": [
    "df.isnull().sum() "
   ]
  },
  {
   "cell_type": "code",
   "execution_count": 267,
   "metadata": {},
   "outputs": [],
   "source": [
    "df.gender.fillna(df.gender.mode()[0], inplace = True)"
   ]
  },
  {
   "cell_type": "code",
   "execution_count": 268,
   "metadata": {},
   "outputs": [],
   "source": [
    "df.category.fillna(df.category.mode()[0], inplace = True)"
   ]
  },
  {
   "cell_type": "code",
   "execution_count": 269,
   "metadata": {},
   "outputs": [],
   "source": [
    "df.age.fillna(int(df.age.mean()), inplace = True)"
   ]
  },
  {
   "cell_type": "code",
   "execution_count": 270,
   "metadata": {},
   "outputs": [],
   "source": [
    "df['annual income (lakhs)'].fillna(df['annual income (lakhs)'].mean(), inplace = True)"
   ]
  },
  {
   "cell_type": "code",
   "execution_count": 271,
   "metadata": {},
   "outputs": [
    {
     "data": {
      "text/plain": [
       "customer_id                  0\n",
       "name                         0\n",
       "gender                       0\n",
       "age                          0\n",
       "annual income (lakhs)        0\n",
       "spending score               0\n",
       "items purchased (monthly)    0\n",
       "country                      0\n",
       "category                     0\n",
       "purchase type                0\n",
       "dtype: int64"
      ]
     },
     "execution_count": 271,
     "metadata": {},
     "output_type": "execute_result"
    }
   ],
   "source": [
    "df.isnull().sum() "
   ]
  },
  {
   "cell_type": "markdown",
   "metadata": {},
   "source": [
    "## Data Transformation"
   ]
  },
  {
   "cell_type": "markdown",
   "metadata": {},
   "source": [
    "Encode categorical values to numerical values"
   ]
  },
  {
   "cell_type": "code",
   "execution_count": 272,
   "metadata": {},
   "outputs": [],
   "source": [
    "encoder = preprocessing.LabelEncoder()\n",
    "df[['category', 'purchase type ', 'gender']] = df[['category', 'purchase type ', 'gender']].apply(encoder.fit_transform)"
   ]
  },
  {
   "cell_type": "code",
   "execution_count": 273,
   "metadata": {},
   "outputs": [
    {
     "data": {
      "text/html": [
       "<div>\n",
       "<style scoped>\n",
       "    .dataframe tbody tr th:only-of-type {\n",
       "        vertical-align: middle;\n",
       "    }\n",
       "\n",
       "    .dataframe tbody tr th {\n",
       "        vertical-align: top;\n",
       "    }\n",
       "\n",
       "    .dataframe thead th {\n",
       "        text-align: right;\n",
       "    }\n",
       "</style>\n",
       "<table border=\"1\" class=\"dataframe\">\n",
       "  <thead>\n",
       "    <tr style=\"text-align: right;\">\n",
       "      <th></th>\n",
       "      <th>customer_id</th>\n",
       "      <th>name</th>\n",
       "      <th>gender</th>\n",
       "      <th>age</th>\n",
       "      <th>annual income (lakhs)</th>\n",
       "      <th>spending score</th>\n",
       "      <th>items purchased (monthly)</th>\n",
       "      <th>country</th>\n",
       "      <th>category</th>\n",
       "      <th>purchase type</th>\n",
       "    </tr>\n",
       "  </thead>\n",
       "  <tbody>\n",
       "    <tr>\n",
       "      <th>0</th>\n",
       "      <td>1</td>\n",
       "      <td>Edith</td>\n",
       "      <td>0</td>\n",
       "      <td>29.0</td>\n",
       "      <td>40.900000</td>\n",
       "      <td>27</td>\n",
       "      <td>62</td>\n",
       "      <td>Iran</td>\n",
       "      <td>1</td>\n",
       "      <td>0</td>\n",
       "    </tr>\n",
       "    <tr>\n",
       "      <th>1</th>\n",
       "      <td>2</td>\n",
       "      <td>Sinclair</td>\n",
       "      <td>1</td>\n",
       "      <td>53.0</td>\n",
       "      <td>35.578846</td>\n",
       "      <td>42</td>\n",
       "      <td>47</td>\n",
       "      <td>China</td>\n",
       "      <td>2</td>\n",
       "      <td>1</td>\n",
       "    </tr>\n",
       "    <tr>\n",
       "      <th>2</th>\n",
       "      <td>3</td>\n",
       "      <td>Enoch</td>\n",
       "      <td>1</td>\n",
       "      <td>22.0</td>\n",
       "      <td>35.578846</td>\n",
       "      <td>70</td>\n",
       "      <td>26</td>\n",
       "      <td>China</td>\n",
       "      <td>5</td>\n",
       "      <td>0</td>\n",
       "    </tr>\n",
       "    <tr>\n",
       "      <th>3</th>\n",
       "      <td>4</td>\n",
       "      <td>Lorenzo</td>\n",
       "      <td>1</td>\n",
       "      <td>9.0</td>\n",
       "      <td>18.500000</td>\n",
       "      <td>68</td>\n",
       "      <td>80</td>\n",
       "      <td>Russia</td>\n",
       "      <td>2</td>\n",
       "      <td>1</td>\n",
       "    </tr>\n",
       "    <tr>\n",
       "      <th>4</th>\n",
       "      <td>5</td>\n",
       "      <td>Damian</td>\n",
       "      <td>1</td>\n",
       "      <td>55.0</td>\n",
       "      <td>18.400000</td>\n",
       "      <td>69</td>\n",
       "      <td>89</td>\n",
       "      <td>Philippines</td>\n",
       "      <td>12</td>\n",
       "      <td>0</td>\n",
       "    </tr>\n",
       "  </tbody>\n",
       "</table>\n",
       "</div>"
      ],
      "text/plain": [
       "   customer_id      name  gender   age  annual income (lakhs)  spending score  \\\n",
       "0            1     Edith       0  29.0              40.900000              27   \n",
       "1            2  Sinclair       1  53.0              35.578846              42   \n",
       "2            3     Enoch       1  22.0              35.578846              70   \n",
       "3            4   Lorenzo       1   9.0              18.500000              68   \n",
       "4            5    Damian       1  55.0              18.400000              69   \n",
       "\n",
       "   items purchased (monthly)      country  category  purchase type   \n",
       "0                         62         Iran         1               0  \n",
       "1                         47        China         2               1  \n",
       "2                         26        China         5               0  \n",
       "3                         80       Russia         2               1  \n",
       "4                         89  Philippines        12               0  "
      ]
     },
     "execution_count": 273,
     "metadata": {},
     "output_type": "execute_result"
    }
   ],
   "source": [
    "df.head()"
   ]
  },
  {
   "cell_type": "markdown",
   "metadata": {},
   "source": [
    "Binning ages into child, teenager, adult, middle aged, old aged"
   ]
  },
  {
   "cell_type": "code",
   "execution_count": 274,
   "metadata": {},
   "outputs": [],
   "source": [
    "df['age group'] = pd.cut(x = df['age'], bins = [0, 12, 19, 30, 50, 100], labels = [\"child\", \"teenager\", \"adult\", \"middle aged\", \"old aged\"], include_lowest = True)"
   ]
  },
  {
   "cell_type": "code",
   "execution_count": 275,
   "metadata": {},
   "outputs": [
    {
     "data": {
      "text/html": [
       "<div>\n",
       "<style scoped>\n",
       "    .dataframe tbody tr th:only-of-type {\n",
       "        vertical-align: middle;\n",
       "    }\n",
       "\n",
       "    .dataframe tbody tr th {\n",
       "        vertical-align: top;\n",
       "    }\n",
       "\n",
       "    .dataframe thead th {\n",
       "        text-align: right;\n",
       "    }\n",
       "</style>\n",
       "<table border=\"1\" class=\"dataframe\">\n",
       "  <thead>\n",
       "    <tr style=\"text-align: right;\">\n",
       "      <th></th>\n",
       "      <th>customer_id</th>\n",
       "      <th>name</th>\n",
       "      <th>gender</th>\n",
       "      <th>age</th>\n",
       "      <th>annual income (lakhs)</th>\n",
       "      <th>spending score</th>\n",
       "      <th>items purchased (monthly)</th>\n",
       "      <th>country</th>\n",
       "      <th>category</th>\n",
       "      <th>purchase type</th>\n",
       "      <th>age group</th>\n",
       "    </tr>\n",
       "  </thead>\n",
       "  <tbody>\n",
       "    <tr>\n",
       "      <th>0</th>\n",
       "      <td>1</td>\n",
       "      <td>Edith</td>\n",
       "      <td>0</td>\n",
       "      <td>29.0</td>\n",
       "      <td>40.900000</td>\n",
       "      <td>27</td>\n",
       "      <td>62</td>\n",
       "      <td>Iran</td>\n",
       "      <td>1</td>\n",
       "      <td>0</td>\n",
       "      <td>adult</td>\n",
       "    </tr>\n",
       "    <tr>\n",
       "      <th>1</th>\n",
       "      <td>2</td>\n",
       "      <td>Sinclair</td>\n",
       "      <td>1</td>\n",
       "      <td>53.0</td>\n",
       "      <td>35.578846</td>\n",
       "      <td>42</td>\n",
       "      <td>47</td>\n",
       "      <td>China</td>\n",
       "      <td>2</td>\n",
       "      <td>1</td>\n",
       "      <td>old aged</td>\n",
       "    </tr>\n",
       "    <tr>\n",
       "      <th>2</th>\n",
       "      <td>3</td>\n",
       "      <td>Enoch</td>\n",
       "      <td>1</td>\n",
       "      <td>22.0</td>\n",
       "      <td>35.578846</td>\n",
       "      <td>70</td>\n",
       "      <td>26</td>\n",
       "      <td>China</td>\n",
       "      <td>5</td>\n",
       "      <td>0</td>\n",
       "      <td>adult</td>\n",
       "    </tr>\n",
       "    <tr>\n",
       "      <th>3</th>\n",
       "      <td>4</td>\n",
       "      <td>Lorenzo</td>\n",
       "      <td>1</td>\n",
       "      <td>9.0</td>\n",
       "      <td>18.500000</td>\n",
       "      <td>68</td>\n",
       "      <td>80</td>\n",
       "      <td>Russia</td>\n",
       "      <td>2</td>\n",
       "      <td>1</td>\n",
       "      <td>child</td>\n",
       "    </tr>\n",
       "    <tr>\n",
       "      <th>4</th>\n",
       "      <td>5</td>\n",
       "      <td>Damian</td>\n",
       "      <td>1</td>\n",
       "      <td>55.0</td>\n",
       "      <td>18.400000</td>\n",
       "      <td>69</td>\n",
       "      <td>89</td>\n",
       "      <td>Philippines</td>\n",
       "      <td>12</td>\n",
       "      <td>0</td>\n",
       "      <td>old aged</td>\n",
       "    </tr>\n",
       "  </tbody>\n",
       "</table>\n",
       "</div>"
      ],
      "text/plain": [
       "   customer_id      name  gender   age  annual income (lakhs)  spending score  \\\n",
       "0            1     Edith       0  29.0              40.900000              27   \n",
       "1            2  Sinclair       1  53.0              35.578846              42   \n",
       "2            3     Enoch       1  22.0              35.578846              70   \n",
       "3            4   Lorenzo       1   9.0              18.500000              68   \n",
       "4            5    Damian       1  55.0              18.400000              69   \n",
       "\n",
       "   items purchased (monthly)      country  category  purchase type  age group  \n",
       "0                         62         Iran         1               0     adult  \n",
       "1                         47        China         2               1  old aged  \n",
       "2                         26        China         5               0     adult  \n",
       "3                         80       Russia         2               1     child  \n",
       "4                         89  Philippines        12               0  old aged  "
      ]
     },
     "execution_count": 275,
     "metadata": {},
     "output_type": "execute_result"
    }
   ],
   "source": [
    "df.head()"
   ]
  },
  {
   "cell_type": "markdown",
   "metadata": {},
   "source": [
    "Applying MinMax scaler on spending scores (reduces values between 0-1)"
   ]
  },
  {
   "cell_type": "code",
   "execution_count": 276,
   "metadata": {},
   "outputs": [],
   "source": [
    "scaler = MinMaxScaler()"
   ]
  },
  {
   "cell_type": "code",
   "execution_count": 277,
   "metadata": {},
   "outputs": [],
   "source": [
    "df[['spending score', 'items purchased (monthly)', 'annual income (lakhs)']] = scaler.fit_transform(df[['spending score', 'items purchased (monthly)', 'annual income (lakhs)']])"
   ]
  },
  {
   "cell_type": "code",
   "execution_count": 278,
   "metadata": {},
   "outputs": [
    {
     "data": {
      "text/html": [
       "<div>\n",
       "<style scoped>\n",
       "    .dataframe tbody tr th:only-of-type {\n",
       "        vertical-align: middle;\n",
       "    }\n",
       "\n",
       "    .dataframe tbody tr th {\n",
       "        vertical-align: top;\n",
       "    }\n",
       "\n",
       "    .dataframe thead th {\n",
       "        text-align: right;\n",
       "    }\n",
       "</style>\n",
       "<table border=\"1\" class=\"dataframe\">\n",
       "  <thead>\n",
       "    <tr style=\"text-align: right;\">\n",
       "      <th></th>\n",
       "      <th>customer_id</th>\n",
       "      <th>name</th>\n",
       "      <th>gender</th>\n",
       "      <th>age</th>\n",
       "      <th>annual income (lakhs)</th>\n",
       "      <th>spending score</th>\n",
       "      <th>items purchased (monthly)</th>\n",
       "      <th>country</th>\n",
       "      <th>category</th>\n",
       "      <th>purchase type</th>\n",
       "      <th>age group</th>\n",
       "    </tr>\n",
       "  </thead>\n",
       "  <tbody>\n",
       "    <tr>\n",
       "      <th>0</th>\n",
       "      <td>1</td>\n",
       "      <td>Edith</td>\n",
       "      <td>0</td>\n",
       "      <td>29.0</td>\n",
       "      <td>0.608607</td>\n",
       "      <td>0.255102</td>\n",
       "      <td>0.616162</td>\n",
       "      <td>Iran</td>\n",
       "      <td>1</td>\n",
       "      <td>0</td>\n",
       "      <td>adult</td>\n",
       "    </tr>\n",
       "    <tr>\n",
       "      <th>1</th>\n",
       "      <td>2</td>\n",
       "      <td>Sinclair</td>\n",
       "      <td>1</td>\n",
       "      <td>53.0</td>\n",
       "      <td>0.499567</td>\n",
       "      <td>0.408163</td>\n",
       "      <td>0.464646</td>\n",
       "      <td>China</td>\n",
       "      <td>2</td>\n",
       "      <td>1</td>\n",
       "      <td>old aged</td>\n",
       "    </tr>\n",
       "    <tr>\n",
       "      <th>2</th>\n",
       "      <td>3</td>\n",
       "      <td>Enoch</td>\n",
       "      <td>1</td>\n",
       "      <td>22.0</td>\n",
       "      <td>0.499567</td>\n",
       "      <td>0.693878</td>\n",
       "      <td>0.252525</td>\n",
       "      <td>China</td>\n",
       "      <td>5</td>\n",
       "      <td>0</td>\n",
       "      <td>adult</td>\n",
       "    </tr>\n",
       "    <tr>\n",
       "      <th>3</th>\n",
       "      <td>4</td>\n",
       "      <td>Lorenzo</td>\n",
       "      <td>1</td>\n",
       "      <td>9.0</td>\n",
       "      <td>0.149590</td>\n",
       "      <td>0.673469</td>\n",
       "      <td>0.797980</td>\n",
       "      <td>Russia</td>\n",
       "      <td>2</td>\n",
       "      <td>1</td>\n",
       "      <td>child</td>\n",
       "    </tr>\n",
       "    <tr>\n",
       "      <th>4</th>\n",
       "      <td>5</td>\n",
       "      <td>Damian</td>\n",
       "      <td>1</td>\n",
       "      <td>55.0</td>\n",
       "      <td>0.147541</td>\n",
       "      <td>0.683673</td>\n",
       "      <td>0.888889</td>\n",
       "      <td>Philippines</td>\n",
       "      <td>12</td>\n",
       "      <td>0</td>\n",
       "      <td>old aged</td>\n",
       "    </tr>\n",
       "  </tbody>\n",
       "</table>\n",
       "</div>"
      ],
      "text/plain": [
       "   customer_id      name  gender   age  annual income (lakhs)  spending score  \\\n",
       "0            1     Edith       0  29.0               0.608607        0.255102   \n",
       "1            2  Sinclair       1  53.0               0.499567        0.408163   \n",
       "2            3     Enoch       1  22.0               0.499567        0.693878   \n",
       "3            4   Lorenzo       1   9.0               0.149590        0.673469   \n",
       "4            5    Damian       1  55.0               0.147541        0.683673   \n",
       "\n",
       "   items purchased (monthly)      country  category  purchase type  age group  \n",
       "0                   0.616162         Iran         1               0     adult  \n",
       "1                   0.464646        China         2               1  old aged  \n",
       "2                   0.252525        China         5               0     adult  \n",
       "3                   0.797980       Russia         2               1     child  \n",
       "4                   0.888889  Philippines        12               0  old aged  "
      ]
     },
     "execution_count": 278,
     "metadata": {},
     "output_type": "execute_result"
    }
   ],
   "source": [
    "df.head()"
   ]
  },
  {
   "cell_type": "markdown",
   "metadata": {},
   "source": [
    "Question 2"
   ]
  },
  {
   "cell_type": "code",
   "execution_count": 279,
   "metadata": {},
   "outputs": [
    {
     "data": {
      "text/plain": [
       "<AxesSubplot:xlabel='age', ylabel='Count'>"
      ]
     },
     "execution_count": 279,
     "metadata": {},
     "output_type": "execute_result"
    },
    {
     "data": {
      "image/png": "[encoded data removed]",
      "text/plain": [
       "<Figure size 432x288 with 1 Axes>"
      ]
     },
     "metadata": {
      "needs_background": "light"
     },
     "output_type": "display_data"
    }
   ],
   "source": [
    "sns.histplot(data = df[\"age\"])"
   ]
  },
  {
   "cell_type": "code",
   "execution_count": 280,
   "metadata": {},
   "outputs": [
    {
     "data": {
      "text/plain": [
       "<AxesSubplot:xlabel='age'>"
      ]
     },
     "execution_count": 280,
     "metadata": {},
     "output_type": "execute_result"
    },
    {
     "data": {
      "image/png": "[encoded data removed]",
      "text/plain": [
       "<Figure size 432x288 with 1 Axes>"
      ]
     },
     "metadata": {
      "needs_background": "light"
     },
     "output_type": "display_data"
    }
   ],
   "source": [
    "sns.boxplot(x = df['age'])"
   ]
  },
  {
   "cell_type": "markdown",
   "metadata": {},
   "source": [
    "Removing outliers in age as person with age < 17 does not have a stable earning"
   ]
  },
  {
   "cell_type": "code",
   "execution_count": 281,
   "metadata": {},
   "outputs": [],
   "source": [
    "df.drop(df[df['age'] < 17].index, inplace = True)"
   ]
  },
  {
   "cell_type": "code",
   "execution_count": 282,
   "metadata": {},
   "outputs": [
    {
     "data": {
      "text/plain": [
       "<AxesSubplot:xlabel='age', ylabel='Count'>"
      ]
     },
     "execution_count": 282,
     "metadata": {},
     "output_type": "execute_result"
    },
    {
     "data": {
      "image/png": "[encoded data removed]",
      "text/plain": [
       "<Figure size 432x288 with 1 Axes>"
      ]
     },
     "metadata": {
      "needs_background": "light"
     },
     "output_type": "display_data"
    }
   ],
   "source": [
    "sns.histplot(data = df[\"age\"])"
   ]
  },
  {
   "cell_type": "code",
   "execution_count": 283,
   "metadata": {},
   "outputs": [
    {
     "data": {
      "text/plain": [
       "<AxesSubplot:xlabel='age', ylabel='annual income (lakhs)'>"
      ]
     },
     "execution_count": 283,
     "metadata": {},
     "output_type": "execute_result"
    },
    {
     "data": {
      "image/png": "[encoded data removed]",
      "text/plain": [
       "<Figure size 432x288 with 1 Axes>"
      ]
     },
     "metadata": {
      "needs_background": "light"
     },
     "output_type": "display_data"
    }
   ],
   "source": [
    "sns.scatterplot(data = df, x = df.age, y = df['annual income (lakhs)'])"
   ]
  },
  {
   "cell_type": "code",
   "execution_count": 284,
   "metadata": {},
   "outputs": [],
   "source": [
    "df.reset_index(drop=True, inplace = True)"
   ]
  },
  {
   "cell_type": "markdown",
   "metadata": {},
   "source": [
    "Question 3"
   ]
  },
  {
   "cell_type": "code",
   "execution_count": 285,
   "metadata": {},
   "outputs": [],
   "source": [
    "df1 = pd.read_csv('association_analysis.csv')"
   ]
  },
  {
   "cell_type": "code",
   "execution_count": 286,
   "metadata": {},
   "outputs": [
    {
     "data": {
      "text/html": [
       "<div>\n",
       "<style scoped>\n",
       "    .dataframe tbody tr th:only-of-type {\n",
       "        vertical-align: middle;\n",
       "    }\n",
       "\n",
       "    .dataframe tbody tr th {\n",
       "        vertical-align: top;\n",
       "    }\n",
       "\n",
       "    .dataframe thead th {\n",
       "        text-align: right;\n",
       "    }\n",
       "</style>\n",
       "<table border=\"1\" class=\"dataframe\">\n",
       "  <thead>\n",
       "    <tr style=\"text-align: right;\">\n",
       "      <th></th>\n",
       "      <th>tid</th>\n",
       "      <th>onion</th>\n",
       "      <th>tomato</th>\n",
       "      <th>potato</th>\n",
       "      <th>bottleguard</th>\n",
       "      <th>beans</th>\n",
       "    </tr>\n",
       "  </thead>\n",
       "  <tbody>\n",
       "    <tr>\n",
       "      <th>0</th>\n",
       "      <td>1</td>\n",
       "      <td>1</td>\n",
       "      <td>0</td>\n",
       "      <td>1</td>\n",
       "      <td>0</td>\n",
       "      <td>0</td>\n",
       "    </tr>\n",
       "    <tr>\n",
       "      <th>1</th>\n",
       "      <td>2</td>\n",
       "      <td>1</td>\n",
       "      <td>0</td>\n",
       "      <td>0</td>\n",
       "      <td>1</td>\n",
       "      <td>1</td>\n",
       "    </tr>\n",
       "    <tr>\n",
       "      <th>2</th>\n",
       "      <td>3</td>\n",
       "      <td>0</td>\n",
       "      <td>0</td>\n",
       "      <td>1</td>\n",
       "      <td>0</td>\n",
       "      <td>0</td>\n",
       "    </tr>\n",
       "    <tr>\n",
       "      <th>3</th>\n",
       "      <td>4</td>\n",
       "      <td>0</td>\n",
       "      <td>1</td>\n",
       "      <td>1</td>\n",
       "      <td>1</td>\n",
       "      <td>1</td>\n",
       "    </tr>\n",
       "    <tr>\n",
       "      <th>4</th>\n",
       "      <td>5</td>\n",
       "      <td>1</td>\n",
       "      <td>1</td>\n",
       "      <td>1</td>\n",
       "      <td>0</td>\n",
       "      <td>0</td>\n",
       "    </tr>\n",
       "  </tbody>\n",
       "</table>\n",
       "</div>"
      ],
      "text/plain": [
       "   tid  onion  tomato  potato  bottleguard  beans\n",
       "0    1      1       0       1            0      0\n",
       "1    2      1       0       0            1      1\n",
       "2    3      0       0       1            0      0\n",
       "3    4      0       1       1            1      1\n",
       "4    5      1       1       1            0      0"
      ]
     },
     "execution_count": 286,
     "metadata": {},
     "output_type": "execute_result"
    }
   ],
   "source": [
    "df1.head()"
   ]
  },
  {
   "cell_type": "code",
   "execution_count": 287,
   "metadata": {},
   "outputs": [],
   "source": [
    "df1.drop(['tid'], axis = 1, inplace = True)"
   ]
  },
  {
   "cell_type": "code",
   "execution_count": 288,
   "metadata": {},
   "outputs": [],
   "source": [
    "# !pip install apyori"
   ]
  },
  {
   "cell_type": "code",
   "execution_count": 289,
   "metadata": {},
   "outputs": [],
   "source": [
    "from apyori import apriori"
   ]
  },
  {
   "cell_type": "markdown",
   "metadata": {},
   "source": [
    "Converting dataframe to a list of lists containing items"
   ]
  },
  {
   "cell_type": "code",
   "execution_count": 290,
   "metadata": {},
   "outputs": [],
   "source": [
    "records = []\n",
    "for i in range(len(df1)):\n",
    "    record = []\n",
    "    for j in range(len(df1.columns)):\n",
    "        if df1.values[i, j]:\n",
    "            record.append(df1.columns[j])\n",
    "    records.append(record)"
   ]
  },
  {
   "cell_type": "code",
   "execution_count": 291,
   "metadata": {},
   "outputs": [
    {
     "data": {
      "text/plain": [
       "[['onion', 'potato'], ['onion', 'bottleguard', 'beans'], ['potato']]"
      ]
     },
     "execution_count": 291,
     "metadata": {},
     "output_type": "execute_result"
    }
   ],
   "source": [
    "records[:3]"
   ]
  },
  {
   "cell_type": "code",
   "execution_count": 292,
   "metadata": {},
   "outputs": [],
   "source": [
    "min_sup = 0.03\n",
    "min_confidence = 0.7"
   ]
  },
  {
   "cell_type": "markdown",
   "metadata": {},
   "source": [
    "Apriori"
   ]
  },
  {
   "cell_type": "code",
   "execution_count": 293,
   "metadata": {},
   "outputs": [],
   "source": [
    "rules = apriori(records, min_support = min_sup, min_confidence = min_confidence)"
   ]
  },
  {
   "cell_type": "code",
   "execution_count": 294,
   "metadata": {},
   "outputs": [],
   "source": [
    "rules = list(rules)"
   ]
  },
  {
   "cell_type": "code",
   "execution_count": 295,
   "metadata": {},
   "outputs": [
    {
     "data": {
      "text/plain": [
       "RelationRecord(items=frozenset({'tomato', 'beans', 'bottleguard'}), support=0.19607843137254902, ordered_statistics=[OrderedStatistic(items_base=frozenset({'beans', 'bottleguard'}), items_add=frozenset({'tomato'}), confidence=0.7692307692307693, lift=1.3527851458885942), OrderedStatistic(items_base=frozenset({'tomato', 'bottleguard'}), items_add=frozenset({'beans'}), confidence=0.7142857142857142, lift=1.457142857142857)])"
      ]
     },
     "execution_count": 295,
     "metadata": {},
     "output_type": "execute_result"
    }
   ],
   "source": [
    "rules[0]"
   ]
  },
  {
   "cell_type": "code",
   "execution_count": 296,
   "metadata": {},
   "outputs": [
    {
     "name": "stdout",
     "output_type": "stream",
     "text": [
      "Rule :  ['tomato', 'beans', 'bottleguard'] Support : 0.19607843137254902 Confidence :  0.7692307692307693\n",
      "Rule :  ['potato', 'beans', 'tomato'] Support : 0.1568627450980392 Confidence :  0.7272727272727272\n",
      "Rule :  ['tomato', 'potato', 'beans', 'bottleguard'] Support : 0.09803921568627451 Confidence :  0.8333333333333334\n",
      "Rule :  ['onion', 'potato', 'beans', 'tomato'] Support : 0.09803921568627451 Confidence :  0.7142857142857142\n",
      "Rule :  ['tomato', 'onion', 'potato', 'bottleguard'] Support : 0.09803921568627451 Confidence :  0.7142857142857142\n",
      "Rule :  ['beans', 'tomato', 'bottleguard', 'potato', 'onion'] Support : 0.058823529411764705 Confidence :  0.75\n"
     ]
    }
   ],
   "source": [
    "for rule in rules:\n",
    "    items = [i for i in rule[0]]\n",
    "    print(\"Rule : \",items, \"Support :\", rule[1], \"Confidence : \", rule[2][0][2])"
   ]
  },
  {
   "cell_type": "code",
   "execution_count": null,
   "metadata": {},
   "outputs": [],
   "source": []
  },
  {
   "cell_type": "markdown",
   "metadata": {},
   "source": [
    "Question 4"
   ]
  },
  {
   "cell_type": "markdown",
   "metadata": {},
   "source": [
    "FP Growth"
   ]
  },
  {
   "cell_type": "code",
   "execution_count": 297,
   "metadata": {},
   "outputs": [
    {
     "name": "stdout",
     "output_type": "stream",
     "text": [
      "Requirement already satisfied: pyfpgrowth in c:\\users\\kriti\\appdata\\local\\programs\\python\\python38\\lib\\site-packages (1.0)\n"
     ]
    }
   ],
   "source": [
    "!pip install pyfpgrowth"
   ]
  },
  {
   "cell_type": "code",
   "execution_count": 299,
   "metadata": {},
   "outputs": [],
   "source": [
    "import pyfpgrowth\n",
    "\n",
    "itemsets = pyfpgrowth.find_frequent_patterns(records, 0.03)"
   ]
  },
  {
   "cell_type": "code",
   "execution_count": 300,
   "metadata": {},
   "outputs": [
    {
     "data": {
      "text/plain": [
       "{('beans', 'bottleguard', 'onion'): 6,\n",
       " ('beans', 'bottleguard', 'onion', 'potato'): 4,\n",
       " ('bottleguard', 'onion', 'tomato'): 6,\n",
       " ('bottleguard', 'onion', 'potato', 'tomato'): 5,\n",
       " ('beans', 'bottleguard', 'onion', 'tomato'): 3,\n",
       " ('beans', 'bottleguard', 'onion', 'potato', 'tomato'): 3,\n",
       " ('bottleguard', 'onion', 'potato'): 7,\n",
       " ('beans', 'bottleguard', 'potato'): 6,\n",
       " ('beans', 'bottleguard', 'potato', 'tomato'): 5,\n",
       " ('bottleguard', 'potato', 'tomato'): 8,\n",
       " ('beans', 'bottleguard'): 13,\n",
       " ('beans', 'bottleguard', 'tomato'): 10,\n",
       " ('bottleguard', 'tomato'): 14,\n",
       " ('beans', 'onion', 'potato'): 7,\n",
       " ('beans', 'onion', 'potato', 'tomato'): 5,\n",
       " ('beans', 'potato', 'tomato'): 8,\n",
       " ('beans', 'onion'): 13,\n",
       " ('beans', 'onion', 'tomato'): 7,\n",
       " ('beans', 'tomato'): 16,\n",
       " ('onion',): 26,\n",
       " ('onion', 'tomato'): 15,\n",
       " ('onion', 'potato'): 14,\n",
       " ('onion', 'potato', 'tomato'): 9,\n",
       " ('potato', 'tomato'): 15,\n",
       " ('tomato',): 29}"
      ]
     },
     "execution_count": 300,
     "metadata": {},
     "output_type": "execute_result"
    }
   ],
   "source": [
    "itemsets"
   ]
  },
  {
   "cell_type": "code",
   "execution_count": 301,
   "metadata": {},
   "outputs": [
    {
     "data": {
      "text/plain": [
       "{('bottleguard', 'onion', 'potato'): (('tomato',), 0.7142857142857143),\n",
       " ('bottleguard', 'onion', 'tomato'): (('potato',), 0.8333333333333334),\n",
       " ('beans', 'bottleguard', 'onion', 'potato'): (('tomato',), 0.75),\n",
       " ('beans', 'bottleguard', 'onion', 'tomato'): (('potato',), 1.0),\n",
       " ('beans', 'bottleguard', 'potato'): (('tomato',), 0.8333333333333334),\n",
       " ('beans', 'bottleguard'): (('tomato',), 0.7692307692307693),\n",
       " ('bottleguard', 'tomato'): (('beans',), 0.7142857142857143),\n",
       " ('beans', 'onion', 'potato'): (('tomato',), 0.7142857142857143),\n",
       " ('beans', 'onion', 'tomato'): (('potato',), 0.7142857142857143)}"
      ]
     },
     "execution_count": 301,
     "metadata": {},
     "output_type": "execute_result"
    }
   ],
   "source": [
    "pyfpgrowth.generate_association_rules(itemsets, 0.7)"
   ]
  },
  {
   "cell_type": "code",
   "execution_count": null,
   "metadata": {},
   "outputs": [],
   "source": []
  },
  {
   "cell_type": "markdown",
   "metadata": {},
   "source": [
    "Question 5 (Finding purchase type based on age, gender, income) "
   ]
  },
  {
   "cell_type": "code",
   "execution_count": null,
   "metadata": {},
   "outputs": [],
   "source": [
    "from sklearn.model_selection import train_test_split"
   ]
  },
  {
   "cell_type": "markdown",
   "metadata": {},
   "source": [
    "70-30 dataset split"
   ]
  },
  {
   "cell_type": "code",
   "execution_count": null,
   "metadata": {},
   "outputs": [],
   "source": [
    "features = df[['age', 'gender', 'annual income (lakhs)']]\n",
    "target = df['purchase type ']\n",
    "\n",
    "x_train, x_test, y_train, y_test = train_test_split(features, target, random_state = 0, test_size = 0.3)"
   ]
  },
  {
   "cell_type": "code",
   "execution_count": null,
   "metadata": {},
   "outputs": [],
   "source": [
    "from sklearn.tree import DecisionTreeClassifier\n",
    "\n",
    "classifierDT = DecisionTreeClassifier()\n",
    "classifierDT.fit(x_train, y_train)\n",
    "predicted_labels = classifierDT.predict(x_test)\n",
    "classifierDT.score(x_test, y_test)"
   ]
  },
  {
   "cell_type": "code",
   "execution_count": null,
   "metadata": {},
   "outputs": [],
   "source": [
    "from sklearn import metrics\n",
    "\n",
    "print(\"Confusion Matrix\")\n",
    "print(metrics.confusion_matrix(y_test, predicted_labels))\n",
    "print(metrics.classification_report(y_test, predicted_labels))\n",
    "probability = classifierDT.predict_proba(x_test)[:, 1]\n",
    "print(\"Area under the curve:\", metrics.roc_auc_score(y_test, probability))\n",
    "fpr, tpr, threshold = metrics.roc_curve(y_test, probability)\n",
    "plt.xlabel('fpr')\n",
    "plt.ylabel('tpr')\n",
    "plt.plot(fpr, tpr, color = 'orange')\n",
    "plt.plot([0,1], [0, 1], linestyle='--')\n",
    "plt.plot()"
   ]
  },
  {
   "cell_type": "code",
   "execution_count": null,
   "metadata": {},
   "outputs": [],
   "source": [
    "from sklearn.naive_bayes import GaussianNB\n",
    "\n",
    "classifierNB = GaussianNB()\n",
    "classifierNB.fit(x_train, y_train)\n",
    "predicted_labels = classifierNB.predict(x_test)\n",
    "classifierNB.score(x_test, y_test)"
   ]
  },
  {
   "cell_type": "code",
   "execution_count": null,
   "metadata": {},
   "outputs": [],
   "source": [
    "print(\"Confusion Matrix\")\n",
    "print(metrics.confusion_matrix(y_test, predicted_labels))\n",
    "print(metrics.classification_report(y_test, predicted_labels))\n",
    "probability = classifierNB.predict_proba(x_test)[:, 1]\n",
    "print(\"Area under the curve:\", metrics.roc_auc_score(y_test, probability))\n",
    "fpr, tpr, threshold = metrics.roc_curve(y_test, probability)\n",
    "plt.xlabel('fpr')\n",
    "plt.ylabel('tpr')\n",
    "plt.plot(fpr, tpr, color = 'orange')\n",
    "plt.plot([0,1], [0, 1], linestyle='--')\n",
    "plt.plot()"
   ]
  },
  {
   "cell_type": "markdown",
   "metadata": {},
   "source": [
    "Question 6 "
   ]
  },
  {
   "cell_type": "markdown",
   "metadata": {},
   "source": [
    "Bagging"
   ]
  },
  {
   "cell_type": "code",
   "execution_count": null,
   "metadata": {},
   "outputs": [],
   "source": [
    "from sklearn.ensemble import BaggingClassifier\n",
    "\n",
    "bag = BaggingClassifier(random_state = 0)\n",
    "bag.fit(x_train, y_train)\n",
    "predicted = bag.predict(x_test)\n",
    "probability = bag.predict_proba(x_test)[:, 1]\n",
    "bag.score(x_test, y_test)"
   ]
  },
  {
   "cell_type": "code",
   "execution_count": null,
   "metadata": {},
   "outputs": [],
   "source": [
    "print(metrics.classification_report(y_test, predicted))\n",
    "print(\"\\nConfusion matrix :\\n\", metrics.confusion_matrix(y_test, predicted))\n",
    "print(\"\\nArea under the curve: \", metrics.roc_auc_score(y_test, predicted))\n",
    "fpr, tpr, thresholds = metrics.roc_curve(y_test, probability)\n",
    "plt.plot(fpr, tpr, color = 'orange')\n",
    "plt.plot([0,1], [0,1], linestyle = '--')\n",
    "plt.xlabel('fpr')\n",
    "plt.ylabel('tpr')"
   ]
  },
  {
   "cell_type": "markdown",
   "metadata": {},
   "source": [
    "Boosting (AdaBoost)"
   ]
  },
  {
   "cell_type": "code",
   "execution_count": null,
   "metadata": {},
   "outputs": [],
   "source": [
    "from sklearn.ensemble import AdaBoostClassifier\n",
    "\n",
    "boost = AdaBoostClassifier(random_state = 0)\n",
    "boost.fit(x_train, y_train)\n",
    "probability = boost.predict_proba(x_test)[:, 1]\n",
    "predicted = boost.predict(x_test)\n",
    "boost.score(x_test, y_test)"
   ]
  },
  {
   "cell_type": "code",
   "execution_count": null,
   "metadata": {},
   "outputs": [],
   "source": [
    "print(metrics.classification_report(y_test, predicted))\n",
    "print(\"Confusion matrix\\n\", metrics.confusion_matrix(y_test, predicted))\n",
    "print(\"Area under the curve\", metrics.roc_auc_score(y_test, predicted))\n",
    "fpr, tpr, thresholds = metrics.roc_curve(y_test, probability)\n",
    "plt.plot(fpr, tpr, color = 'orange')\n",
    "plt.plot([0,1], [0,1], linestyle = '--')\n",
    "plt.xlabel('fpr')\n",
    "plt.ylabel('tpr')"
   ]
  },
  {
   "cell_type": "markdown",
   "metadata": {},
   "source": [
    "Question 7 (K Means Clustering)"
   ]
  },
  {
   "cell_type": "markdown",
   "metadata": {},
   "source": [
    "Grouping people based on gender, age, category"
   ]
  },
  {
   "cell_type": "code",
   "execution_count": null,
   "metadata": {},
   "outputs": [],
   "source": [
    "from sklearn.cluster import KMeans\n",
    "\n",
    "dataframe = df[['gender', 'age', 'category']]\n",
    "\n",
    "kmeans = KMeans(n_clusters = 5, random_state = 0)\n",
    "kmeans.fit_predict(dataframe)\n",
    "print(\"Cluster centers\\n\", kmeans.cluster_centers_)\n",
    "dataframe['cluster'] = kmeans.labels_"
   ]
  },
  {
   "cell_type": "code",
   "execution_count": null,
   "metadata": {},
   "outputs": [],
   "source": [
    "dataframe.head()"
   ]
  },
  {
   "cell_type": "code",
   "execution_count": null,
   "metadata": {},
   "outputs": [],
   "source": [
    "sns.scatterplot(data = dataframe, x = dataframe.cluster, y = dataframe.age)"
   ]
  },
  {
   "cell_type": "code",
   "execution_count": null,
   "metadata": {},
   "outputs": [],
   "source": [
    "sns.scatterplot(data = dataframe, x = dataframe.cluster, y = dataframe.gender.replace({0 : \"Male\", 1 : \"Female\"}))"
   ]
  },
  {
   "cell_type": "code",
   "execution_count": null,
   "metadata": {},
   "outputs": [],
   "source": [
    "sns.scatterplot(data = dataframe, x = dataframe.cluster, y = dataframe.category)"
   ]
  },
  {
   "cell_type": "code",
   "execution_count": null,
   "metadata": {},
   "outputs": [],
   "source": [
    "dataframe.drop(['cluster'], axis = 1, inplace = True)"
   ]
  },
  {
   "cell_type": "markdown",
   "metadata": {},
   "source": [
    "Question 8 "
   ]
  },
  {
   "cell_type": "markdown",
   "metadata": {},
   "source": [
    "Grouping people based on gender, age, category"
   ]
  },
  {
   "cell_type": "markdown",
   "metadata": {},
   "source": [
    "Hierarchical Clustering (Agglomerative clustering)"
   ]
  },
  {
   "cell_type": "code",
   "execution_count": null,
   "metadata": {},
   "outputs": [],
   "source": [
    "from sklearn.cluster import AgglomerativeClustering\n",
    "\n",
    "agg = AgglomerativeClustering(n_clusters = 5, affinity = 'euclidean')\n",
    "agg.fit_predict(dataframe)"
   ]
  },
  {
   "cell_type": "code",
   "execution_count": null,
   "metadata": {},
   "outputs": [],
   "source": [
    "dataframe['cluster'] = cluster.labels_"
   ]
  },
  {
   "cell_type": "code",
   "execution_count": null,
   "metadata": {},
   "outputs": [],
   "source": [
    "dataframe.head()"
   ]
  },
  {
   "cell_type": "code",
   "execution_count": null,
   "metadata": {},
   "outputs": [],
   "source": [
    "sns.scatterplot(data = dataframe, x = dataframe.cluster, y = dataframe.age)"
   ]
  },
  {
   "cell_type": "code",
   "execution_count": null,
   "metadata": {},
   "outputs": [],
   "source": [
    "sns.scatterplot(data = dataframe, x = dataframe.cluster, y = dataframe.gender.replace({0 : \"Male\", 1 : \"Female\"}))"
   ]
  },
  {
   "cell_type": "code",
   "execution_count": null,
   "metadata": {},
   "outputs": [],
   "source": [
    "sns.scatterplot(data = dataframe, x = dataframe.cluster, y = dataframe.category)"
   ]
  }
 ],
 "metadata": {
  "kernelspec": {
   "display_name": "Python 3",
   "language": "python",
   "name": "python3"
  },
  "language_info": {
   "codemirror_mode": {
    "name": "ipython",
    "version": 3
   },
   "file_extension": ".py",
   "mimetype": "text/x-python",
   "name": "python",
   "nbconvert_exporter": "python",
   "pygments_lexer": "ipython3",
   "version": "3.8.5"
  }
 },
 "nbformat": 4,
 "nbformat_minor": 4
}
